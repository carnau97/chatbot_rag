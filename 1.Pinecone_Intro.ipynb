{
 "cells": [
  {
   "cell_type": "markdown",
   "id": "f74f2aaf",
   "metadata": {},
   "source": [
    "# Pinecone - Primeros pasos\n",
    "\n",
    "## Introducción <a name=\"intro\"></a>\n",
    "\n",
    "Lo primero que debemos realizar es crear una **API-Key** sobre la que poder auntenticarnos y, crear un proyecto sobre el que subir nuestros índices.\n",
    "\n",
    "Por lo tanto, definimos la información necesaria:\n",
    "+ **PINECONE_API_KEY**\n",
    "+ **INDEX_NAME**\n",
    "\n",
    "IMPORTANTE: Para poder trabajar con Pinecone desde Python debemos instalar el paquete que nos da acceso al cliente en la nube https://docs.pinecone.io/docs/python-client"
   ]
  },
  {
   "cell_type": "code",
   "execution_count": null,
   "id": "0e0ec752",
   "metadata": {},
   "outputs": [],
   "source": [
    "#pip install pinecone-client\n",
    "#pip install python-dotenv "
   ]
  },
  {
   "cell_type": "code",
   "execution_count": 32,
   "id": "05cc2791",
   "metadata": {},
   "outputs": [],
   "source": [
    "import os\n",
    "from pinecone import Pinecone\n",
    "from dotenv import load_dotenv, find_dotenv\n",
    "import numpy as np"
   ]
  },
  {
   "cell_type": "code",
   "execution_count": 26,
   "id": "90d4a81a",
   "metadata": {},
   "outputs": [
    {
     "data": {
      "text/plain": [
       "True"
      ]
     },
     "execution_count": 26,
     "metadata": {},
     "output_type": "execute_result"
    }
   ],
   "source": [
    "load_dotenv(find_dotenv()) # busca un .env dentro de los archivos del repo (devuelve True si lo encuentra)\n",
    "\n",
    "# load_dotenv(path) # si lo tenemos en otra localizacion (o con otro nombre) se puede pasar una ruta"
   ]
  },
  {
   "cell_type": "code",
   "execution_count": 23,
   "id": "c392cbcf",
   "metadata": {},
   "outputs": [],
   "source": [
    "PINECONE_API_KEY = os.environ[\"PINECONE_API_KEY\"]"
   ]
  },
  {
   "cell_type": "markdown",
   "id": "ce9d5946",
   "metadata": {},
   "source": [
    "Una vez definidas nuestras variables constantes para poder interactuar con Pinecone, debemos lanzar el cliente, esto, se consigue a través de la función `Pinecone()` esta función recibe principalmente dos parámetros:\n",
    "* `api_key`\n",
    "\n",
    "De esta forma, ya hemos conectado el notebook al servidor de Pinecone"
   ]
  },
  {
   "cell_type": "code",
   "execution_count": 13,
   "id": "f54e7a62",
   "metadata": {
    "scrolled": true
   },
   "outputs": [],
   "source": [
    "# Importamos Pinecode\n",
    "\n",
    "pinecone = Pinecone(api_key=PINECONE_API_KEY)"
   ]
  },
  {
   "cell_type": "markdown",
   "id": "165f79ac",
   "metadata": {},
   "source": [
    "Posteriormente, una vez conectados al servidor, podemos acceder a nuestros índices (creados previamente desde la interfaz de Pinecone) mediante la función `pinecone.list_indexes()` "
   ]
  },
  {
   "cell_type": "code",
   "execution_count": 14,
   "id": "0e056dad",
   "metadata": {},
   "outputs": [
    {
     "data": {
      "text/plain": [
       "{'indexes': [{'deletion_protection': 'disabled',\n",
       "              'dimension': 1024,\n",
       "              'host': 'intropinecone-ska078u.svc.aped-4627-b74a.pinecone.io',\n",
       "              'metric': 'cosine',\n",
       "              'name': 'intropinecone',\n",
       "              'spec': {'serverless': {'cloud': 'aws', 'region': 'us-east-1'}},\n",
       "              'status': {'ready': True, 'state': 'Ready'}}]}"
      ]
     },
     "execution_count": 14,
     "metadata": {},
     "output_type": "execute_result"
    }
   ],
   "source": [
    "pinecone.list_indexes()"
   ]
  },
  {
   "cell_type": "markdown",
   "id": "acc3dd75",
   "metadata": {},
   "source": [
    "También es posible crear un índice desde cero, todo desde el cliente en Python \n",
    "\n",
    "```python\n",
    "from pinecone import Pinecone\n",
    "\n",
    "pinecone = Pinecone(api_key=PINECONE_API_KEY)\n",
    "\n",
    "index_name = \"mi_index_prueba\"\n",
    "\n",
    "pinecone.create_index(\n",
    "        index_name,\n",
    "        dimension=1536,  \n",
    "        metric='cosine'\n",
    "    )\n",
    "\n",
    "```"
   ]
  },
  {
   "cell_type": "markdown",
   "id": "2c03cd6d",
   "metadata": {},
   "source": [
    "Además de poder acceder a su nombre, para controlar el estado del mismo es posible acceder a información como\n",
    "* Status del índice\n",
    "* Nombre del índice\n",
    "* Tamaño del índice\n",
    "\n",
    "Esto se consigue desde la función `pinecone.describe_index()`"
   ]
  },
  {
   "cell_type": "code",
   "execution_count": 16,
   "id": "43a0fa5f",
   "metadata": {},
   "outputs": [
    {
     "data": {
      "text/plain": [
       "{'deletion_protection': 'disabled',\n",
       " 'dimension': 1024,\n",
       " 'host': 'intropinecone-ska078u.svc.aped-4627-b74a.pinecone.io',\n",
       " 'metric': 'cosine',\n",
       " 'name': 'intropinecone',\n",
       " 'spec': {'serverless': {'cloud': 'aws', 'region': 'us-east-1'}},\n",
       " 'status': {'ready': True, 'state': 'Ready'}}"
      ]
     },
     "execution_count": 16,
     "metadata": {},
     "output_type": "execute_result"
    }
   ],
   "source": [
    "pinecone.describe_index(\"intropinecone\") # Devuelve un índice de valores"
   ]
  },
  {
   "cell_type": "markdown",
   "id": "947c56aa",
   "metadata": {},
   "source": [
    "Como el índice puede ser algo privado, podemos definirlo en el fichero .env como una variable de entorno"
   ]
  },
  {
   "cell_type": "code",
   "execution_count": 27,
   "id": "e985f4d2",
   "metadata": {},
   "outputs": [],
   "source": [
    "INDEX_NAME = os.environ[\"INDEX\"]"
   ]
  },
  {
   "cell_type": "code",
   "execution_count": 28,
   "id": "e0154547",
   "metadata": {},
   "outputs": [
    {
     "data": {
      "text/plain": [
       "{'deletion_protection': 'disabled',\n",
       " 'dimension': 1024,\n",
       " 'host': 'intropinecone-ska078u.svc.aped-4627-b74a.pinecone.io',\n",
       " 'metric': 'cosine',\n",
       " 'name': 'intropinecone',\n",
       " 'spec': {'serverless': {'cloud': 'aws', 'region': 'us-east-1'}},\n",
       " 'status': {'ready': True, 'state': 'Ready'}}"
      ]
     },
     "execution_count": 28,
     "metadata": {},
     "output_type": "execute_result"
    }
   ],
   "source": [
    "pinecone.describe_index(INDEX_NAME)"
   ]
  },
  {
   "cell_type": "code",
   "execution_count": 29,
   "id": "1c9e7acb",
   "metadata": {},
   "outputs": [
    {
     "data": {
      "text/plain": [
       "1024"
      ]
     },
     "execution_count": 29,
     "metadata": {},
     "output_type": "execute_result"
    }
   ],
   "source": [
    "pinecone.describe_index(INDEX_NAME).dimension"
   ]
  },
  {
   "cell_type": "code",
   "execution_count": 30,
   "id": "7e28f769",
   "metadata": {},
   "outputs": [
    {
     "name": "stdout",
     "output_type": "stream",
     "text": [
      "<class 'pinecone.models.index_model.IndexModel'>\n"
     ]
    }
   ],
   "source": [
    "print(type(pinecone.describe_index(INDEX_NAME)))"
   ]
  },
  {
   "cell_type": "markdown",
   "id": "c63b0fc0",
   "metadata": {},
   "source": [
    "## Trabajando con Índices <a name=\"index\"></a>\n",
    "\n",
    "Antes de crear vectores propios con archivos PDF (el objetivo central de nuestro asistente conversacional), vamos a crear algunos vectores para subirlos a nuestro índice.\n",
    "\n",
    "Ahora mismo nuestro índice tiene una dimensionalidad de 1024, vamos a crear algunos vectores aleatorios con Numpy para subir a nuestro índice de Pinecone (serían posibles números de Word Embeddings)"
   ]
  },
  {
   "cell_type": "code",
   "execution_count": null,
   "id": "43c0a242",
   "metadata": {},
   "outputs": [],
   "source": [
    "vec_1 = np.random.normal(size = int(pinecone.describe_index(INDEX_NAME).dimension)).tolist() # para subirlos es necesario pasarlos a lista\n",
    "# vec_1 = np.random.normal(size = 1024).tolist()\n",
    "vec_2 = np.random.normal(size = int(pinecone.describe_index(INDEX_NAME).dimension)).tolist()"
   ]
  },
  {
   "cell_type": "code",
   "execution_count": 34,
   "id": "0b2f25b4",
   "metadata": {},
   "outputs": [
    {
     "data": {
      "text/plain": [
       "[-0.7647454842405442, -1.3488354302766006, -2.009611564951777]"
      ]
     },
     "execution_count": 34,
     "metadata": {},
     "output_type": "execute_result"
    }
   ],
   "source": [
    "vec_1[:3]"
   ]
  },
  {
   "cell_type": "markdown",
   "id": "07f11186",
   "metadata": {},
   "source": [
    "Para poder subir estos dos vectores a Pinecone, debemos primero conectarnos al índice, esto se hace desde la función `pinecone.Index()`"
   ]
  },
  {
   "cell_type": "code",
   "execution_count": 35,
   "id": "57caca06",
   "metadata": {},
   "outputs": [],
   "source": [
    "index = pinecone.Index(INDEX_NAME)"
   ]
  },
  {
   "cell_type": "markdown",
   "id": "ba511ae5",
   "metadata": {},
   "source": [
    "Una vez que estemos conectados a un índice ya podremos realizar operaciones como:\n",
    "* __Upsert__ - Insertar vectores\n",
    "* __Query__  - Búsqueda por similaridad\n",
    "* __Fetch__  - Recuperación de vectores\n",
    "* __Delete__ - Borrar del índice\n",
    "* __Update__ - Actualizar el/los elementos del vector\n",
    "\n",
    "https://docs.pinecone.io/reference/query\n",
    "\n",
    "Para subir vectores a un índice emplearemos la función `index.upsert()`. Esta función recibirá los siguientes parámetros principales:\n",
    "* vectors: Lista de vectores\n",
    "\n",
    "Esta lista de vectores, comúmente vendrá acompañada de campos que suelen introducirse como diccionario de datos (uno por cada vector) en donde se definen los siguientes campos clave:\n",
    "+ id: nombre del índice\n",
    "+ values : vector\n",
    "+ metadata : Valores de metadatos de cada vector (útil para realizar búsqueda semántica)"
   ]
  },
  {
   "cell_type": "code",
   "execution_count": 36,
   "id": "c2367576",
   "metadata": {},
   "outputs": [],
   "source": [
    "# Posteriormente haremos esto de forma automatizada con la funcion from_documents\n",
    "\n",
    "upsert_vectors = index.upsert(  # Insertamos vectores\n",
    "    vectors = [\n",
    "        \n",
    "        {\"id\"       :\"vec_1\", \n",
    "         \"values\"   : vec_1,\n",
    "         \"metadata\" : {\"contenido\" : \"aprendizaje supervisado\"}},\n",
    "        \n",
    "        {\"id\"       :\"vec_2\", \n",
    "         \"values\"   : vec_2,\n",
    "         \"metadata\" : {\"contenido\" : \"aprendizaje NO supervisado\"}}        \n",
    "    ]\n",
    ")"
   ]
  },
  {
   "cell_type": "markdown",
   "id": "df1ed6ca",
   "metadata": {},
   "source": [
    "### Ejercicio 1\n",
    "\n",
    "Vamos a subir 100 vectores, a la colección, al igual que en el ejemplo que acabamos de ver, para el campo metadata, vamos a tomar los posibles valores en el campo \"contenido\".\n",
    "+ Las herramientas del científico de datos\n",
    "+ Machine Learning\n",
    "+ Estadística para el Data Science\n",
    "\n",
    "El valor de \"contenido\" será aleatorio\n",
    "\n",
    "#### Solución"
   ]
  },
  {
   "cell_type": "code",
   "execution_count": null,
   "id": "6f7b8afd",
   "metadata": {},
   "outputs": [],
   "source": []
  },
  {
   "cell_type": "markdown",
   "id": "e15d7af7",
   "metadata": {},
   "source": [
    "## Funciones de búsqueda en vectores <a name=\"query\"></a>\n",
    "\n",
    "Por el momento, nuestras _querys_ serán sin lenguaje natural, ya que, aún no hemos subido ningún archivo de texto, nuestros vectores no son ni más ni menos que números que siguen una distribución normal, pero, este es el objetivo, cuando llegue una preguna en lenguaje natural, se convertirá en Embeddings y, se buscarán vectores por similaridad.\n",
    "\n",
    "Para realizar una búsqueda por similaridad en nuestro índice sobre los vectores, podemos hacer uso de la función `index.query()` la cuál recibe otro vector como parámetro y, el parámetro `top_k` que es el número de resultados a desplegar."
   ]
  },
  {
   "cell_type": "code",
   "execution_count": 37,
   "id": "f71475e3",
   "metadata": {},
   "outputs": [],
   "source": [
    "query_vector = np.random.normal(size = \\\n",
    "                                int(pinecone.describe_index(INDEX_NAME).dimension)).tolist()"
   ]
  },
  {
   "cell_type": "code",
   "execution_count": 38,
   "id": "1fe0b070",
   "metadata": {},
   "outputs": [
    {
     "data": {
      "text/plain": [
       "[-1.15238549437899,\n",
       " -0.40361093913706975,\n",
       " 0.5034572242501693,\n",
       " -1.7190467936623295,\n",
       " -0.06837911192864113,\n",
       " 0.7168079918890528,\n",
       " -1.1348130225776514,\n",
       " 0.952719161052057,\n",
       " 1.2281627829356319,\n",
       " -0.9251060491499601,\n",
       " -0.2496803461757182,\n",
       " -0.05049975044256642,\n",
       " -1.0062360728560742,\n",
       " -1.220606780062563,\n",
       " -0.7573371683350697,\n",
       " -1.657236960976515,\n",
       " -1.9726670495976724,\n",
       " 0.9786944207943854,\n",
       " -0.15507729268785386,\n",
       " -0.8225234755020444]"
      ]
     },
     "execution_count": 38,
     "metadata": {},
     "output_type": "execute_result"
    }
   ],
   "source": [
    "query_vector[:20]"
   ]
  },
  {
   "cell_type": "code",
   "execution_count": 39,
   "id": "5598ef86",
   "metadata": {},
   "outputs": [],
   "source": [
    "ask_query = index.query(\n",
    "    vector = query_vector, # Vector de búsqueda,\n",
    "    top_k  = 1 # Solo el resultado con la similaridad más alta\n",
    ")"
   ]
  },
  {
   "cell_type": "markdown",
   "id": "2d074119",
   "metadata": {},
   "source": [
    "El resultado almacenado en esta variable será simplemente los id de los vectores con la similariadad más alta, tantos como le hayamos pasado al parámetro `top_k`"
   ]
  },
  {
   "cell_type": "code",
   "execution_count": 40,
   "id": "81eb7d5c",
   "metadata": {},
   "outputs": [
    {
     "data": {
      "text/plain": [
       "{'matches': [{'id': 'vec_2', 'score': 0.016998712, 'values': []}],\n",
       " 'namespace': '',\n",
       " 'usage': {'read_units': 5}}"
      ]
     },
     "execution_count": 40,
     "metadata": {},
     "output_type": "execute_result"
    }
   ],
   "source": [
    "ask_query"
   ]
  },
  {
   "cell_type": "code",
   "execution_count": 41,
   "id": "d0ffb936",
   "metadata": {},
   "outputs": [
    {
     "data": {
      "text/plain": [
       "{'matches': [{'id': 'vec_2', 'score': 0.016998712, 'values': []},\n",
       "             {'id': 'vec_1', 'score': -0.0183637626, 'values': []}],\n",
       " 'namespace': '',\n",
       " 'usage': {'read_units': 5}}"
      ]
     },
     "execution_count": 41,
     "metadata": {},
     "output_type": "execute_result"
    }
   ],
   "source": [
    "index.query(\n",
    "    vector = query_vector, # Vector de búsqueda,\n",
    "    top_k  = 2 # Solo el resultado con la similaridad más alta\n",
    ")"
   ]
  },
  {
   "cell_type": "markdown",
   "id": "bd3a4e4e",
   "metadata": {},
   "source": [
    "También es posible hacer una busqueda semántica mediante metadatos. https://docs.pinecone.io/docs/metadata-filtering.\n",
    "\n",
    "La búsqueda semántica te va a permitir filtrar para que solo busque en vectores que cumplan ciertas condiciones."
   ]
  },
  {
   "cell_type": "code",
   "execution_count": 42,
   "id": "3647ef5e",
   "metadata": {},
   "outputs": [
    {
     "data": {
      "text/plain": [
       "{'upserted_count': 5}"
      ]
     },
     "execution_count": 42,
     "metadata": {},
     "output_type": "execute_result"
    }
   ],
   "source": [
    "# Incluimos mas vectores de prueba\n",
    "\n",
    "index.upsert([\n",
    "    (\"A\", np.random.normal(size = int(pinecone.describe_index(INDEX_NAME).dimension)).tolist(), \n",
    "     {\"genre\": \"comedy\", \"year\": 2020}),\n",
    "    \n",
    "    (\"B\", np.random.normal(size = int(pinecone.describe_index(INDEX_NAME).dimension)).tolist(),\n",
    "     {\"genre\": \"documentary\", \"year\": 2019}),\n",
    "    \n",
    "    (\"C\", np.random.normal(size = int(pinecone.describe_index(INDEX_NAME).dimension)).tolist(),\n",
    "     {\"genre\": \"comedy\", \"year\": 2019}),\n",
    "    \n",
    "    (\"D\", np.random.normal(size = int(pinecone.describe_index(INDEX_NAME).dimension)).tolist(), \n",
    "     {\"genre\": \"drama\"}),\n",
    "    \n",
    "    (\"E\", np.random.normal(size = int(pinecone.describe_index(INDEX_NAME).dimension)).tolist(), \n",
    "     {\"genre\": \"drama\"})\n",
    "])"
   ]
  },
  {
   "cell_type": "code",
   "execution_count": 43,
   "id": "32e34946",
   "metadata": {},
   "outputs": [],
   "source": [
    "query_vector = np.random.normal(size = int(pinecone.describe_index(INDEX_NAME).dimension)).tolist()"
   ]
  },
  {
   "cell_type": "code",
   "execution_count": 44,
   "id": "b0f61b6f",
   "metadata": {},
   "outputs": [
    {
     "data": {
      "text/plain": [
       "{'matches': [{'id': 'C',\n",
       "              'metadata': {'genre': 'comedy', 'year': 2019.0},\n",
       "              'score': 0.00851308741,\n",
       "              'values': []}],\n",
       " 'namespace': '',\n",
       " 'usage': {'read_units': 6}}"
      ]
     },
     "execution_count": 44,
     "metadata": {},
     "output_type": "execute_result"
    }
   ],
   "source": [
    "index.query(\n",
    "    vector=query_vector,\n",
    "    filter={\n",
    "        \"genre\": {\"$eq\": \"comedy\"},\n",
    "        \"year\": 2019\n",
    "    },\n",
    "    top_k=1,\n",
    "    include_metadata=True # para que filtre por metadatos hay que añadir este parametro\n",
    ")"
   ]
  },
  {
   "cell_type": "markdown",
   "id": "ae8f7cd7",
   "metadata": {},
   "source": [
    "Para borrar vectores, se puede emplear la función `index.delete()` Es posible eliminar directamente IDs concretos sobre el campo `ids` o borrar por metadatos sobre el campo `filter`"
   ]
  },
  {
   "cell_type": "code",
   "execution_count": 45,
   "id": "35fd5e45",
   "metadata": {},
   "outputs": [
    {
     "data": {
      "text/plain": [
       "{}"
      ]
     },
     "execution_count": 45,
     "metadata": {},
     "output_type": "execute_result"
    }
   ],
   "source": [
    "index.delete(ids=[\"A\", \"B\"])"
   ]
  },
  {
   "cell_type": "markdown",
   "id": "ae7d251f",
   "metadata": {},
   "source": [
    "También es posible borrar vectores mediante el filtrado de metadatos, no obstante esta operación no está habilitada para las cuentas que tengan un entorno de computación gcp-starter: https://docs.pinecone.io/docs/metadata-filtering#deleting-vectors-by-metadata-filter\n",
    "\n",
    "```python\n",
    "index.delete(\n",
    "    filter={\n",
    "        \"genre\": {\"$eq\": \"documentary\"},\n",
    "        \"year\": 2019\n",
    "    }\n",
    ")\n",
    "```\n",
    "\n",
    "Para borrar todos los vectores de un índice podemos hacer uso del parámetro `delete_all`, no obstante, tampoco es posible realizar esta operación en cuentas tipo Starter.\n",
    "\n",
    "```python\n",
    "# borrar todos los vectores\n",
    "index.delete(delete_all=True)\n",
    "```\n",
    "\n",
    "Para actualizar un vector se puede realizar desde la función `index.update()` https://docs.pinecone.io/docs/manage-data#updating-records"
   ]
  },
  {
   "cell_type": "code",
   "execution_count": 46,
   "id": "338663c4",
   "metadata": {},
   "outputs": [],
   "source": [
    "# Creamos un vector para comprobar la operación update\n",
    "\n",
    "vec_test = np.random.normal(size = int(pinecone.describe_index(INDEX_NAME).dimension)).tolist()\n",
    "\n",
    "upsert_vectors = index.upsert(  # Insertamos vectores\n",
    "    vectors = [\n",
    "        \n",
    "        {\"id\"       :\"test\", \n",
    "         \"values\"   : vec_test,\n",
    "         \"metadata\" : {\"contenido\" : \"aprendizaje supervisado\"}},    \n",
    "    ]\n",
    ")"
   ]
  },
  {
   "cell_type": "code",
   "execution_count": 47,
   "id": "539d0d3f",
   "metadata": {},
   "outputs": [
    {
     "data": {
      "text/plain": [
       "{}"
      ]
     },
     "execution_count": 47,
     "metadata": {},
     "output_type": "execute_result"
    }
   ],
   "source": [
    "# Actualizamos el vector\n",
    "index.update(id=\"test\", \n",
    "             values= np.ones(int(pinecone.describe_index(INDEX_NAME).dimension)).tolist(), \n",
    "             set_metadata={\"contenido\": [\"aprendizaje supervisado\", \"Estadística\"],\n",
    "                           \"fecha\" : \"11/10/2024\"}\n",
    "                           )"
   ]
  }
 ],
 "metadata": {
  "kernelspec": {
   "display_name": "base",
   "language": "python",
   "name": "python3"
  },
  "language_info": {
   "codemirror_mode": {
    "name": "ipython",
    "version": 3
   },
   "file_extension": ".py",
   "mimetype": "text/x-python",
   "name": "python",
   "nbconvert_exporter": "python",
   "pygments_lexer": "ipython3",
   "version": "3.12.7"
  }
 },
 "nbformat": 4,
 "nbformat_minor": 5
}
